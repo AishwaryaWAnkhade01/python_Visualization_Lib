{
 "cells": [
  {
   "cell_type": "code",
   "execution_count": 11,
   "id": "ad7acf34-6228-4ceb-864b-d2d20a0c2a9b",
   "metadata": {},
   "outputs": [
    {
     "name": "stdout",
     "output_type": "stream",
     "text": [
      "a    10\n",
      "b    20\n",
      "c    30\n",
      "d    40\n",
      "e    50\n",
      "f    60\n",
      "g    70\n",
      "Name: example_of_pandas_seires, dtype: int64\n"
     ]
    }
   ],
   "source": [
    "import pandas as pd\n",
    "dataset=[10,20,30,40,50,60,70]\n",
    "series=pd.Series(dataset,index=['a','b','c','d','e','f','g'],name=\"example_of_pandas_seires\")\n",
    "print(series)"
   ]
  },
  {
   "cell_type": "code",
   "execution_count": 25,
   "id": "9fd0d6aa-a0b7-4317-ae9f-c3995842168c",
   "metadata": {},
   "outputs": [
    {
     "name": "stdout",
     "output_type": "stream",
     "text": [
      "Monday       150\n",
      "Tuesday      200\n",
      "Wednesday    175\n",
      "Thursday     220\n",
      "Friday       300\n",
      "Saturday     400\n",
      "Sunday       350\n",
      "Name: sales_series, dtype: int64\n"
     ]
    }
   ],
   "source": [
    "#sales series\n",
    "import pandas as pd\n",
    "sales = [150, 200, 175, 220, 300, 400, 350]\n",
    "days_of_week = ['Monday', 'Tuesday', 'Wednesday', 'Thursday', 'Friday', 'Saturday', 'Sunday']\n",
    "\n",
    "sales_series = pd.Series(sales, index=days_of_week,name=\"sales_series\")\n",
    "print(sales_series)"
   ]
  },
  {
   "cell_type": "code",
   "execution_count": 31,
   "id": "4f17a103-5fc1-4ddb-9d9c-0eb14f41c6ec",
   "metadata": {},
   "outputs": [
    {
     "name": "stdout",
     "output_type": "stream",
     "text": [
      "A    85\n",
      "B    90\n",
      "C    78\n",
      "D    88\n",
      "E    92\n",
      "dtype: int64\n"
     ]
    }
   ],
   "source": [
    "import pandas as pd\n",
    "# Student grades\n",
    "grades = [85, 90, 78, 88, 92]\n",
    "students = ['A', 'B', 'C', 'D', 'E']\n",
    "\n",
    "grades_series = pd.Series(grades, index=students)\n",
    "print(grades_series)"
   ]
  },
  {
   "cell_type": "code",
   "execution_count": 93,
   "id": "8d675d8d-1beb-426b-bfad-c658857c1bf0",
   "metadata": {},
   "outputs": [
    {
     "name": "stdout",
     "output_type": "stream",
     "text": [
      "   emp_id     name  age Gender      city grade  salary\n",
      "0     101    alice   20      F  New York     A   50000\n",
      "1     102      Bob   21      M  New York     A   50000\n",
      "2     103  Charlie   22      M  New York     B   45000\n",
      "3     104    David   23      M  New York     C   30000\n",
      "4     105  Elouise   24      F  New York     B   40000\n",
      "5     106  Anthony   25      M  New York     A   50000\n",
      "6     107     Kate   23      F  New York     B   45000\n"
     ]
    }
   ],
   "source": [
    "#Creating DataFrame\n",
    "import pandas as pd\n",
    "data={\"emp_id\": [101,102,103,104,105,106,107],\n",
    "     \"name\":[\"alice\",\"Bob\",\"Charlie\",\"David\",\"Elouise\",\"Anthony\",\"Kate\"],\n",
    "    \"age\":[20,21,22,23,24,25,23]}\n",
    "df=pd.DataFrame(data)\n",
    "#to update or add a column\n",
    "df[\"city\"]=[\"New York\",\"New York\",\"New York\",\"New York\",\"New York\",\"New York\",\"New York\"]\n",
    "\n",
    "#for adding new Columns \n",
    "newColumns = {\n",
    "    \"grade\": ['A', 'A', 'B', 'C', 'B', 'A', 'B'],  # Use quotes for string values\n",
    "    \"salary\": [50000, 50000, 45000, 30000, 40000, 50000, 45000]\n",
    "}\n",
    "\n",
    "# Correctly add new columns to the DataFrame\n",
    "df[\"grade\"] = newColumns[\"grade\"]\n",
    "df[\"salary\"] = newColumns[\"salary\"]\n",
    "\n",
    "#adding columns in between\n",
    "\n",
    "gender=['F','M','M','M','F','M','F']\n",
    "df.insert(3,\"Gender\",gender)\n",
    "print(df)\n"
   ]
  },
  {
   "cell_type": "code",
   "execution_count": null,
   "id": "24510466-51be-41ab-935d-b423e18f82eb",
   "metadata": {},
   "outputs": [],
   "source": []
  },
  {
   "cell_type": "code",
   "execution_count": null,
   "id": "b02f9a66-441c-42dd-bfde-30cf80729763",
   "metadata": {},
   "outputs": [],
   "source": []
  }
 ],
 "metadata": {
  "kernelspec": {
   "display_name": "Python 3 (ipykernel)",
   "language": "python",
   "name": "python3"
  },
  "language_info": {
   "codemirror_mode": {
    "name": "ipython",
    "version": 3
   },
   "file_extension": ".py",
   "mimetype": "text/x-python",
   "name": "python",
   "nbconvert_exporter": "python",
   "pygments_lexer": "ipython3",
   "version": "3.12.4"
  }
 },
 "nbformat": 4,
 "nbformat_minor": 5
}
